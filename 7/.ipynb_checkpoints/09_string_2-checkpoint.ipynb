{
 "cells": [
  {
   "cell_type": "markdown",
   "metadata": {},
   "source": [
    "# Введение в обработку текста на естественном языке"
   ]
  },
  {
   "cell_type": "markdown",
   "metadata": {},
   "source": [
    "Материалы:\n",
    "* Макрушин С.В. Лекция 9: Введение в обработку текста на естественном языке\\\n",
    "* https://realpython.com/nltk-nlp-python/\n",
    "* https://scikit-learn.org/stable/modules/feature_extraction.html"
   ]
  },
  {
   "cell_type": "markdown",
   "metadata": {},
   "source": [
    "## Задачи для совместного разбора"
   ]
  },
  {
   "cell_type": "code",
   "execution_count": 26,
   "metadata": {},
   "outputs": [
    {
     "name": "stderr",
     "output_type": "stream",
     "text": [
      "[nltk_data] Downloading package wordnet to\n",
      "[nltk_data]     C:\\Users\\alexm\\AppData\\Roaming\\nltk_data...\n",
      "[nltk_data]   Package wordnet is already up-to-date!\n",
      "[nltk_data] Downloading package stopwords to\n",
      "[nltk_data]     C:\\Users\\alexm\\AppData\\Roaming\\nltk_data...\n",
      "[nltk_data]   Package stopwords is already up-to-date!\n"
     ]
    }
   ],
   "source": [
    "from sklearn.feature_extraction.text import CountVectorizer, TfidfVectorizer\n",
    "from nltk.stem import WordNetLemmatizer, SnowballStemmer\n",
    "from nltk.tokenize import sent_tokenize, word_tokenize\n",
    "from nltk.corpus import stopwords\n",
    "import nltk\n",
    "import pymorphy2\n",
    "import pandas as pd\n",
    "from functools import reduce\n",
    "\n",
    "# Загрузка необходимых ресурсов NLTK\n",
    "nltk.download('wordnet')\n",
    "nltk.download('stopwords')\n",
    "\n",
    "# Инициализация стеммера для русского языка\n",
    "stemmer = SnowballStemmer(\"russian\")\n"
   ]
  },
  {
   "cell_type": "markdown",
   "metadata": {},
   "source": [
    "1. Считайте слова из файла `litw-win.txt` и запишите их в список `words`. В заданном предложении исправьте все опечатки, заменив слова с опечатками на ближайшие (в смысле расстояния Левенштейна) к ним слова из списка `words`. Считайте, что в слове есть опечатка, если данное слово не содержится в списке `words`. "
   ]
  },
  {
   "cell_type": "code",
   "execution_count": null,
   "metadata": {},
   "outputs": [],
   "source": []
  },
  {
   "cell_type": "markdown",
   "metadata": {},
   "source": [
    "2. Разбейте текст из формулировки задания 1 на слова; проведите стемминг и лемматизацию слов."
   ]
  },
  {
   "cell_type": "markdown",
   "metadata": {},
   "source": [
    "3. Преобразуйте предложения из формулировки задания 1 в векторы при помощи `CountVectorizer`."
   ]
  },
  {
   "cell_type": "markdown",
   "metadata": {},
   "source": [
    "## Лабораторная работа 9"
   ]
  },
  {
   "cell_type": "markdown",
   "metadata": {},
   "source": [
    "### Расстояние редактирования"
   ]
  },
  {
   "cell_type": "markdown",
   "metadata": {},
   "source": [
    "1.1 Загрузите предобработанные описания рецептов из файла `preprocessed_descriptions.csv`. Получите набор уникальных слов `words`, содержащихся в текстах описаний рецептов (воспользуйтесь `word_tokenize` из `nltk`). "
   ]
  },
  {
   "cell_type": "code",
   "execution_count": 12,
   "metadata": {},
   "outputs": [
    {
     "data": {
      "text/plain": [
       "['an',\n",
       " 'original',\n",
       " 'recipe',\n",
       " 'created',\n",
       " 'by',\n",
       " 'chef',\n",
       " 'scott',\n",
       " 'meskan',\n",
       " 'george',\n",
       " 's']"
      ]
     },
     "execution_count": 12,
     "metadata": {},
     "output_type": "execute_result"
    }
   ],
   "source": [
    "# Случайное число n в диапазоне от 301 до 500\n",
    "n = random.randint(301, 500)\n",
    "\n",
    "# Загрузка данных из файла preprocessed_descriptions.csv и выбор первых n строк\n",
    "preprocessed_descriptions = pd.read_csv(\"./data/preprocessed_descriptions.csv\")[:n]\n",
    "\n",
    "# Вывод первых нескольких строк для проверки\n",
    "preprocessed_descriptions.head()\n",
    "\n",
    "# Объединяем токенизированные слова из столбца 'preprocessed_descriptions'\n",
    "words = reduce(lambda x, y: x + y, [word_tokenize(item) for item in preprocessed_descriptions[\"preprocessed_descriptions\"].to_list() if isinstance(item, str)])\n",
    "\n",
    "# Вывод первых 10 слов для проверки\n",
    "words[:10]"
   ]
  },
  {
   "cell_type": "markdown",
   "metadata": {},
   "source": [
    "1.2 Сгенерируйте 5 пар случайно выбранных слов и посчитайте между ними расстояние редактирования."
   ]
  },
  {
   "cell_type": "code",
   "execution_count": 13,
   "metadata": {},
   "outputs": [
    {
     "name": "stdout",
     "output_type": "stream",
     "text": [
      "['same until', 'finding elephant', 'sink spinach', 'mine creaks', 'thaw minor']\n"
     ]
    },
    {
     "data": {
      "text/plain": [
       "[5, 7, 4, 6, 5]"
      ]
     },
     "execution_count": 13,
     "metadata": {},
     "output_type": "execute_result"
    }
   ],
   "source": [
    "# Преобразуем список слов во множество, чтобы удалить дубликаты, затем снова преобразуем обратно в список\n",
    "words = list(set(words))\n",
    "\n",
    "# Создаем список из 5 пар случайных слов\n",
    "pairs = [' '.join(random.choices(words, k=2)) for _ in range(5)]\n",
    "\n",
    "# Выводим список пар слов\n",
    "print(pairs)\n",
    "\n",
    "# Вычисляем расстояние Левенштейна для каждой пары слов\n",
    "h_s = [edit_distance(*v.split()) for v in pairs]\n",
    "\n",
    "# Выводим расстояния Левенштейна\n",
    "h_s\n"
   ]
  },
  {
   "cell_type": "markdown",
   "metadata": {},
   "source": [
    "1.3 Напишите функцию, которая для заданного слова `word` возвращает `k` ближайших к нему слов из списка `words` (близость слов измеряется с помощью расстояния Левенштейна)"
   ]
  },
  {
   "cell_type": "code",
   "execution_count": 15,
   "metadata": {},
   "outputs": [
    {
     "data": {
      "text/plain": [
       "['check', 'chuck', 'cheap']"
      ]
     },
     "execution_count": 15,
     "metadata": {},
     "output_type": "execute_result"
    }
   ],
   "source": [
    "def k_nearest(word: str, k: int = 1):\n",
    "    # Сортируем слова по расстоянию Левенштейна до заданного слова\n",
    "    w_new = sorted(words, key=lambda w: edit_distance(w, word))\n",
    "    # Возвращаем k ближайших слов\n",
    "    return w_new[:k]\n",
    "\n",
    "# Пример вызова функции k_nearest для слова 'check' и получения 3 ближайших слов\n",
    "k_nearest('check', k=3)\n"
   ]
  },
  {
   "cell_type": "code",
   "execution_count": null,
   "metadata": {},
   "outputs": [],
   "source": []
  },
  {
   "cell_type": "markdown",
   "metadata": {},
   "source": [
    "### Стемминг, лемматизация"
   ]
  },
  {
   "cell_type": "markdown",
   "metadata": {},
   "source": [
    "2.1 На основе результатов 1.1 создайте `pd.DataFrame` со столбцами: \n",
    "    * word\n",
    "    * stemmed_word \n",
    "    * normalized_word \n",
    "\n",
    "Столбец `word` укажите в качестве индекса. \n",
    "\n",
    "Для стемминга воспользуйтесь `SnowballStemmer`, для нормализации слов - `WordNetLemmatizer`. Сравните результаты стемминга и лемматизации."
   ]
  },
  {
   "cell_type": "code",
   "execution_count": 18,
   "metadata": {},
   "outputs": [
    {
     "data": {
      "text/html": [
       "<div>\n",
       "<style scoped>\n",
       "    .dataframe tbody tr th:only-of-type {\n",
       "        vertical-align: middle;\n",
       "    }\n",
       "\n",
       "    .dataframe tbody tr th {\n",
       "        vertical-align: top;\n",
       "    }\n",
       "\n",
       "    .dataframe thead th {\n",
       "        text-align: right;\n",
       "    }\n",
       "</style>\n",
       "<table border=\"1\" class=\"dataframe\">\n",
       "  <thead>\n",
       "    <tr style=\"text-align: right;\">\n",
       "      <th></th>\n",
       "      <th>word</th>\n",
       "      <th>normalized_word</th>\n",
       "    </tr>\n",
       "    <tr>\n",
       "      <th>stemmed_word</th>\n",
       "      <th></th>\n",
       "      <th></th>\n",
       "    </tr>\n",
       "  </thead>\n",
       "  <tbody>\n",
       "    <tr>\n",
       "      <th>apples</th>\n",
       "      <td>apples</td>\n",
       "      <td>apple</td>\n",
       "    </tr>\n",
       "    <tr>\n",
       "      <th>temptations</th>\n",
       "      <td>temptations</td>\n",
       "      <td>temptation</td>\n",
       "    </tr>\n",
       "    <tr>\n",
       "      <th>maria</th>\n",
       "      <td>maria</td>\n",
       "      <td>maria</td>\n",
       "    </tr>\n",
       "    <tr>\n",
       "      <th>org</th>\n",
       "      <td>org</td>\n",
       "      <td>org</td>\n",
       "    </tr>\n",
       "    <tr>\n",
       "      <th>whipped</th>\n",
       "      <td>whipped</td>\n",
       "      <td>whipped</td>\n",
       "    </tr>\n",
       "  </tbody>\n",
       "</table>\n",
       "</div>"
      ],
      "text/plain": [
       "                     word normalized_word\n",
       "stemmed_word                             \n",
       "apples             apples           apple\n",
       "temptations   temptations      temptation\n",
       "maria               maria           maria\n",
       "org                   org             org\n",
       "whipped           whipped         whipped"
      ]
     },
     "execution_count": 18,
     "metadata": {},
     "output_type": "execute_result"
    }
   ],
   "source": [
    "lemmatizer = WordNetLemmatizer()\n",
    "\n",
    "# Применяем стеммер к каждому слову в списке words\n",
    "stemmed_words = [stemmer.stem(word) for word in words]\n",
    "\n",
    "# Применяем лемматизатор к каждому слову в списке words\n",
    "normalized_words = [lemmatizer.lemmatize(word) for word in words]\n",
    "\n",
    "# Создаем DataFrame с данными и выбираем строки с индексами от 10 до 19\n",
    "df = pd.DataFrame(list(zip(words, stemmed_words, normalized_words))[10:20], columns=['word', 'stemmed_word', 'normalized_word'])\n",
    "\n",
    "# Устанавливаем столбец 'stemmed_word' в качестве индекса\n",
    "df = df.set_index('stemmed_word')\n",
    "\n",
    "# Выводим первые несколько строк DataFrame\n",
    "df.head()\n"
   ]
  },
  {
   "cell_type": "markdown",
   "metadata": {},
   "source": [
    "2.2. Удалите стоп-слова из описаний рецептов. Какую долю об общего количества слов составляли стоп-слова? Сравните топ-10 самых часто употребляемых слов до и после удаления стоп-слов."
   ]
  },
  {
   "cell_type": "code",
   "execution_count": 22,
   "metadata": {},
   "outputs": [
    {
     "name": "stdout",
     "output_type": "stream",
     "text": [
      "Доля стоп слов - 0.5844606728121633\n",
      "Топ 10 слов со стоп словами: the; a; i; and; this; it; to; is; of; for\n",
      "Топ 10 слов без стоп слов: recipe; make; great; time; easy; dish; made; bread; delicious; soup\n"
     ]
    }
   ],
   "source": [
    "```python\n",
    "st_w = stopwords.words()\n",
    "\n",
    "# Объединяем все тексты из столбца 'preprocessed_descriptions' в одну строку\n",
    "texts = reduce(lambda x, y: x + ' ' + y, [item for item in preprocessed_descriptions[\"preprocessed_descriptions\"].to_list() if isinstance(item, str)])\n",
    "\n",
    "# Токенизируем тексты\n",
    "tokens = word_tokenize(texts)\n",
    "\n",
    "# Общее количество токенов\n",
    "l = len(tokens)\n",
    "\n",
    "# Инициализируем счетчики слов\n",
    "l_new = 0\n",
    "words_dict = {}\n",
    "words_dict_stop = {}\n",
    "\n",
    "# Подсчитываем количество вхождений каждого слова, включая стоп-слова\n",
    "for w in tokens:\n",
    "    words_dict[w] = words_dict.get(w, 0) + 1\n",
    "    if w not in st_w:\n",
    "        words_dict_stop[w] = words_dict_stop.get(w, 0) + 1\n",
    "        l_new += 1\n",
    "\n",
    "# Доля стоп-слов в тексте\n",
    "stopword_ratio = (l - l_new) / l\n",
    "\n",
    "# Выводим результаты\n",
    "print(f'Доля стоп-слов - {stopword_ratio}')\n",
    "print(f'Топ 10 слов со стоп-словами: {\"; \".join(sorted(words_dict.keys(), key=lambda x: words_dict[x], reverse=True)[:10])}')\n",
    "print(f'Топ 10 слов без стоп-слов: {\"; \".join(sorted(words_dict_stop.keys(), key=lambda x: words_dict_stop[x], reverse=True)[:10])}')\n",
    "```"
   ]
  },
  {
   "cell_type": "markdown",
   "metadata": {},
   "source": [
    "### Векторное представление текста"
   ]
  },
  {
   "cell_type": "markdown",
   "metadata": {},
   "source": [
    "3.1 Выберите случайным образом 5 рецептов из набора данных. Представьте описание каждого рецепта в виде числового вектора при помощи `TfidfVectorizer`"
   ]
  },
  {
   "cell_type": "code",
   "execution_count": 30,
   "metadata": {},
   "outputs": [
    {
     "name": "stdout",
     "output_type": "stream",
     "text": [
      "                                       name  \\\n",
      "226  50   whole wheat bread   bread machine   \n",
      "111   10 layer poor man s lasagna casserole   \n",
      "392  aguado de gallina or chicken rice soup   \n",
      "247                        a   w cream soda   \n",
      "359                           afghan monkey   \n",
      "\n",
      "                             preprocessed_descriptions  \n",
      "226  this is a nice light bread that is very tasty ...  \n",
      "111  i had to come up with a kid adult friendly rec...  \n",
      "392  this soup looks delicious  i found the recipe ...  \n",
      "247          cooking time does not include chill time   \n",
      "359  a great combination of coconut rum  melon   ba...  \n",
      "Рецепт:\n",
      " this is a nice light bread that is very tasty for sandwiches and does not require the whole wheat cycle on the abm  it is from the  canadian bread machine baking  with roxanne mcquilkin \n",
      "Вектор:\n",
      " [0.         0.1673716  0.         0.         0.11209071 0.\n",
      " 0.1673716  0.         0.         0.         0.33474319 0.\n",
      " 0.1673716  0.         0.         0.         0.         0.\n",
      " 0.         0.         0.1673716  0.         0.         0.\n",
      " 0.13503435 0.         0.         0.         0.13503435 0.\n",
      " 0.         0.1673716  0.         0.         0.         0.\n",
      " 0.         0.         0.         0.         0.40510305 0.13503435\n",
      " 0.         0.         0.1673716  0.         0.         0.\n",
      " 0.         0.1673716  0.         0.         0.1673716  0.\n",
      " 0.         0.         0.         0.1673716  0.13503435 0.\n",
      " 0.1673716  0.         0.         0.         0.         0.\n",
      " 0.         0.         0.         0.         0.1673716  0.1673716\n",
      " 0.         0.1673716  0.         0.         0.         0.\n",
      " 0.         0.1673716  0.         0.13503435 0.33627212 0.11209071\n",
      " 0.         0.         0.         0.         0.         0.\n",
      " 0.1673716  0.         0.         0.         0.         0.\n",
      " 0.         0.1673716  0.         0.1673716  0.13503435 0.\n",
      " 0.         0.         0.        ]\n",
      "\n",
      "Рецепт:\n",
      " i had to come up with a kid adult friendly recipe to please everybody while my step daughter was visiting  so this is what i did  we all loved this  it ended up making a lot  though  so you might want to make a half a recipe  i ll be taking this to the next potluck or family gathering that comes up  it was so good  it came out way better than i thought it would  i was quite surprised and happy  hope you try it \n",
      "Вектор:\n",
      " [0.         0.         0.09137739 0.09137739 0.0611965  0.\n",
      " 0.         0.         0.09137739 0.09137739 0.         0.09137739\n",
      " 0.         0.         0.         0.         0.         0.09137739\n",
      " 0.09137739 0.         0.         0.09137739 0.         0.09137739\n",
      " 0.         0.09137739 0.09137739 0.09137739 0.         0.\n",
      " 0.09137739 0.         0.09137739 0.09137739 0.         0.09137739\n",
      " 0.09137739 0.09137739 0.09137739 0.         0.0737227  0.3686135\n",
      " 0.09137739 0.         0.         0.09137739 0.         0.09137739\n",
      " 0.09137739 0.         0.09137739 0.09137739 0.         0.\n",
      " 0.09137739 0.09137739 0.09137739 0.         0.         0.\n",
      " 0.         0.09137739 0.09137739 0.         0.09137739 0.\n",
      " 0.09137739 0.09137739 0.1474454  0.         0.         0.\n",
      " 0.         0.         0.27413216 0.         0.09137739 0.09137739\n",
      " 0.09137739 0.         0.09137739 0.0737227  0.0611965  0.1835895\n",
      " 0.09137739 0.09137739 0.         0.36550954 0.09137739 0.27413216\n",
      " 0.         0.09137739 0.09137739 0.27413216 0.09137739 0.09137739\n",
      " 0.09137739 0.         0.09137739 0.         0.0737227  0.09137739\n",
      " 0.         0.18275477 0.        ]\n",
      "\n",
      "Рецепт:\n",
      " this soup looks delicious  i found the recipe at www laylita com recipes  posted for zwt 2008 \n",
      "Вектор:\n",
      " [0.2653831  0.         0.         0.         0.         0.2653831\n",
      " 0.         0.         0.         0.         0.         0.\n",
      " 0.         0.         0.         0.2653831  0.         0.\n",
      " 0.         0.         0.         0.         0.2653831  0.\n",
      " 0.         0.         0.         0.         0.21410942 0.2653831\n",
      " 0.         0.         0.         0.         0.         0.\n",
      " 0.         0.         0.         0.         0.         0.\n",
      " 0.         0.2653831  0.         0.         0.2653831  0.\n",
      " 0.         0.         0.         0.         0.         0.\n",
      " 0.         0.         0.         0.         0.         0.\n",
      " 0.         0.         0.         0.         0.         0.2653831\n",
      " 0.         0.         0.21410942 0.2653831  0.         0.\n",
      " 0.         0.         0.         0.2653831  0.         0.\n",
      " 0.         0.         0.         0.         0.17773016 0.17773016\n",
      " 0.         0.         0.         0.         0.         0.\n",
      " 0.         0.         0.         0.         0.         0.\n",
      " 0.         0.         0.         0.         0.         0.\n",
      " 0.2653831  0.         0.2653831 ]\n",
      "\n",
      "Рецепт:\n",
      " cooking time does not include chill time \n",
      "Вектор:\n",
      " [0.         0.         0.         0.         0.         0.\n",
      " 0.         0.         0.         0.         0.         0.\n",
      " 0.         0.34706676 0.         0.         0.         0.\n",
      " 0.         0.34706676 0.         0.         0.         0.\n",
      " 0.28001128 0.         0.         0.         0.         0.\n",
      " 0.         0.         0.         0.         0.         0.\n",
      " 0.         0.         0.         0.34706676 0.         0.\n",
      " 0.         0.         0.         0.         0.         0.\n",
      " 0.         0.         0.         0.         0.         0.\n",
      " 0.         0.         0.         0.         0.28001128 0.\n",
      " 0.         0.         0.         0.         0.         0.\n",
      " 0.         0.         0.         0.         0.         0.\n",
      " 0.         0.         0.         0.         0.         0.\n",
      " 0.         0.         0.         0.         0.         0.\n",
      " 0.         0.         0.69413353 0.         0.         0.\n",
      " 0.         0.         0.         0.         0.         0.\n",
      " 0.         0.         0.         0.         0.         0.\n",
      " 0.         0.         0.        ]\n",
      "\n",
      "Рецепт:\n",
      " a great combination of coconut rum  melon   banana and pineapple \n",
      "Вектор:\n",
      " [0.         0.         0.         0.         0.23040808 0.\n",
      " 0.         0.34404072 0.         0.         0.         0.\n",
      " 0.         0.         0.34404072 0.         0.34404072 0.\n",
      " 0.         0.         0.         0.         0.         0.\n",
      " 0.         0.         0.         0.         0.         0.\n",
      " 0.         0.         0.         0.         0.34404072 0.\n",
      " 0.         0.         0.         0.         0.         0.\n",
      " 0.         0.         0.         0.         0.         0.\n",
      " 0.         0.         0.         0.         0.         0.34404072\n",
      " 0.         0.         0.         0.         0.         0.34404072\n",
      " 0.         0.         0.         0.34404072 0.         0.\n",
      " 0.         0.         0.         0.         0.         0.\n",
      " 0.34404072 0.         0.         0.         0.         0.\n",
      " 0.         0.         0.         0.         0.         0.\n",
      " 0.         0.         0.         0.         0.         0.\n",
      " 0.         0.         0.         0.         0.         0.\n",
      " 0.         0.         0.         0.         0.         0.\n",
      " 0.         0.         0.        ]\n",
      "\n"
     ]
    }
   ],
   "source": [
    "data = preprocessed_descriptions.sample(5)\n",
    "print(data)\n",
    "\n",
    "# Инициализируем TF-IDF векторизатор\n",
    "vectorizer = TfidfVectorizer()\n",
    "\n",
    "# Обучаем векторизатор на данных из столбца 'preprocessed_descriptions'\n",
    "vectorizer.fit(data['preprocessed_descriptions'])\n",
    "\n",
    "# Преобразуем тексты в TF-IDF векторы\n",
    "sent_vec = vectorizer.transform(data['preprocessed_descriptions'])\n",
    "\n",
    "# Преобразуем разреженные матрицы TF-IDF векторов в массивы numpy\n",
    "sent_vec = sent_vec.toarray()\n",
    "\n",
    "# Выводим оригинальный текст и соответствующий ему TF-IDF вектор\n",
    "for i, recipe in enumerate(data['preprocessed_descriptions']):\n",
    "    print(\"Рецепт:\\n\", recipe)\n",
    "    print(\"Вектор:\\n\", sent_vec[i])\n",
    "    print()\n"
   ]
  },
  {
   "cell_type": "markdown",
   "metadata": {},
   "source": [
    "3.2 Вычислите близость между каждой парой рецептов, выбранных в задании 3.1, используя косинусное расстояние (`scipy.spatial.distance.cosine`) Результаты оформите в виде таблицы `pd.DataFrame`. В качестве названий строк и столбцов используйте названия рецептов."
   ]
  },
  {
   "cell_type": "code",
   "execution_count": 32,
   "metadata": {},
   "outputs": [
    {
     "name": "stdout",
     "output_type": "stream",
     "text": [
      "this is a nice light bread that is very tasty for sandwiches and does not require the whole wheat cycle on the abm  it is from the  canadian bread machine baking  with roxanne mcquilkin \n",
      "this is a nice light bread that is very tasty for sandwiches and does not require the whole wheat cycle on the abm  it is from the  canadian bread machine baking  with roxanne mcquilkin \n",
      "1.0\n",
      "\n",
      "this is a nice light bread that is very tasty for sandwiches and does not require the whole wheat cycle on the abm  it is from the  canadian bread machine baking  with roxanne mcquilkin \n",
      "i had to come up with a kid adult friendly recipe to please everybody while my step daughter was visiting  so this is what i did  we all loved this  it ended up making a lot  though  so you might want to make a half a recipe  i ll be taking this to the next potluck or family gathering that comes up  it was so good  it came out way better than i thought it would  i was quite surprised and happy  hope you try it \n",
      "0.0\n",
      "\n",
      "this is a nice light bread that is very tasty for sandwiches and does not require the whole wheat cycle on the abm  it is from the  canadian bread machine baking  with roxanne mcquilkin \n",
      "this soup looks delicious  i found the recipe at www laylita com recipes  posted for zwt 2008 \n",
      "0.0\n",
      "\n",
      "this is a nice light bread that is very tasty for sandwiches and does not require the whole wheat cycle on the abm  it is from the  canadian bread machine baking  with roxanne mcquilkin \n",
      "cooking time does not include chill time \n",
      "0.05601246119812264\n",
      "\n",
      "this is a nice light bread that is very tasty for sandwiches and does not require the whole wheat cycle on the abm  it is from the  canadian bread machine baking  with roxanne mcquilkin \n",
      "a great combination of coconut rum  melon   banana and pineapple \n",
      "0.0\n",
      "\n",
      "i had to come up with a kid adult friendly recipe to please everybody while my step daughter was visiting  so this is what i did  we all loved this  it ended up making a lot  though  so you might want to make a half a recipe  i ll be taking this to the next potluck or family gathering that comes up  it was so good  it came out way better than i thought it would  i was quite surprised and happy  hope you try it \n",
      "this is a nice light bread that is very tasty for sandwiches and does not require the whole wheat cycle on the abm  it is from the  canadian bread machine baking  with roxanne mcquilkin \n",
      "0.0\n",
      "\n",
      "i had to come up with a kid adult friendly recipe to please everybody while my step daughter was visiting  so this is what i did  we all loved this  it ended up making a lot  though  so you might want to make a half a recipe  i ll be taking this to the next potluck or family gathering that comes up  it was so good  it came out way better than i thought it would  i was quite surprised and happy  hope you try it \n",
      "i had to come up with a kid adult friendly recipe to please everybody while my step daughter was visiting  so this is what i did  we all loved this  it ended up making a lot  though  so you might want to make a half a recipe  i ll be taking this to the next potluck or family gathering that comes up  it was so good  it came out way better than i thought it would  i was quite surprised and happy  hope you try it \n",
      "1.0\n",
      "\n",
      "i had to come up with a kid adult friendly recipe to please everybody while my step daughter was visiting  so this is what i did  we all loved this  it ended up making a lot  though  so you might want to make a half a recipe  i ll be taking this to the next potluck or family gathering that comes up  it was so good  it came out way better than i thought it would  i was quite surprised and happy  hope you try it \n",
      "this soup looks delicious  i found the recipe at www laylita com recipes  posted for zwt 2008 \n",
      "0.06781105003700483\n",
      "\n",
      "i had to come up with a kid adult friendly recipe to please everybody while my step daughter was visiting  so this is what i did  we all loved this  it ended up making a lot  though  so you might want to make a half a recipe  i ll be taking this to the next potluck or family gathering that comes up  it was so good  it came out way better than i thought it would  i was quite surprised and happy  hope you try it \n",
      "cooking time does not include chill time \n",
      "0.0\n",
      "\n",
      "i had to come up with a kid adult friendly recipe to please everybody while my step daughter was visiting  so this is what i did  we all loved this  it ended up making a lot  though  so you might want to make a half a recipe  i ll be taking this to the next potluck or family gathering that comes up  it was so good  it came out way better than i thought it would  i was quite surprised and happy  hope you try it \n",
      "a great combination of coconut rum  melon   banana and pineapple \n",
      "0.0\n",
      "\n",
      "this soup looks delicious  i found the recipe at www laylita com recipes  posted for zwt 2008 \n",
      "this is a nice light bread that is very tasty for sandwiches and does not require the whole wheat cycle on the abm  it is from the  canadian bread machine baking  with roxanne mcquilkin \n",
      "0.0\n",
      "\n",
      "this soup looks delicious  i found the recipe at www laylita com recipes  posted for zwt 2008 \n",
      "i had to come up with a kid adult friendly recipe to please everybody while my step daughter was visiting  so this is what i did  we all loved this  it ended up making a lot  though  so you might want to make a half a recipe  i ll be taking this to the next potluck or family gathering that comes up  it was so good  it came out way better than i thought it would  i was quite surprised and happy  hope you try it \n",
      "0.06781105003700483\n",
      "\n",
      "this soup looks delicious  i found the recipe at www laylita com recipes  posted for zwt 2008 \n",
      "this soup looks delicious  i found the recipe at www laylita com recipes  posted for zwt 2008 \n",
      "1.0\n",
      "\n",
      "this soup looks delicious  i found the recipe at www laylita com recipes  posted for zwt 2008 \n",
      "cooking time does not include chill time \n",
      "0.0\n",
      "\n",
      "this soup looks delicious  i found the recipe at www laylita com recipes  posted for zwt 2008 \n",
      "a great combination of coconut rum  melon   banana and pineapple \n",
      "0.0\n",
      "\n",
      "cooking time does not include chill time \n",
      "this is a nice light bread that is very tasty for sandwiches and does not require the whole wheat cycle on the abm  it is from the  canadian bread machine baking  with roxanne mcquilkin \n",
      "0.05601246119812264\n",
      "\n",
      "cooking time does not include chill time \n",
      "i had to come up with a kid adult friendly recipe to please everybody while my step daughter was visiting  so this is what i did  we all loved this  it ended up making a lot  though  so you might want to make a half a recipe  i ll be taking this to the next potluck or family gathering that comes up  it was so good  it came out way better than i thought it would  i was quite surprised and happy  hope you try it \n",
      "0.0\n",
      "\n",
      "cooking time does not include chill time \n",
      "this soup looks delicious  i found the recipe at www laylita com recipes  posted for zwt 2008 \n",
      "0.0\n",
      "\n",
      "cooking time does not include chill time \n",
      "cooking time does not include chill time \n",
      "1.0\n",
      "\n",
      "cooking time does not include chill time \n",
      "a great combination of coconut rum  melon   banana and pineapple \n",
      "0.0\n",
      "\n",
      "a great combination of coconut rum  melon   banana and pineapple \n",
      "this is a nice light bread that is very tasty for sandwiches and does not require the whole wheat cycle on the abm  it is from the  canadian bread machine baking  with roxanne mcquilkin \n",
      "0.0\n",
      "\n",
      "a great combination of coconut rum  melon   banana and pineapple \n",
      "i had to come up with a kid adult friendly recipe to please everybody while my step daughter was visiting  so this is what i did  we all loved this  it ended up making a lot  though  so you might want to make a half a recipe  i ll be taking this to the next potluck or family gathering that comes up  it was so good  it came out way better than i thought it would  i was quite surprised and happy  hope you try it \n",
      "0.0\n",
      "\n",
      "a great combination of coconut rum  melon   banana and pineapple \n",
      "this soup looks delicious  i found the recipe at www laylita com recipes  posted for zwt 2008 \n",
      "0.0\n",
      "\n",
      "a great combination of coconut rum  melon   banana and pineapple \n",
      "cooking time does not include chill time \n",
      "0.0\n",
      "\n",
      "a great combination of coconut rum  melon   banana and pineapple \n",
      "a great combination of coconut rum  melon   banana and pineapple \n",
      "1.0\n",
      "\n"
     ]
    },
    {
     "data": {
      "text/html": [
       "<div>\n",
       "<style scoped>\n",
       "    .dataframe tbody tr th:only-of-type {\n",
       "        vertical-align: middle;\n",
       "    }\n",
       "\n",
       "    .dataframe tbody tr th {\n",
       "        vertical-align: top;\n",
       "    }\n",
       "\n",
       "    .dataframe thead th {\n",
       "        text-align: right;\n",
       "    }\n",
       "</style>\n",
       "<table border=\"1\" class=\"dataframe\">\n",
       "  <thead>\n",
       "    <tr style=\"text-align: right;\">\n",
       "      <th></th>\n",
       "      <th>this is a nice light bread that is very tasty for sandwiches and does not require the whole wheat cycle on the abm  it is from the  canadian bread machine baking  with roxanne mcquilkin</th>\n",
       "      <th>i had to come up with a kid adult friendly recipe to please everybody while my step daughter was visiting  so this is what i did  we all loved this  it ended up making a lot  though  so you might want to make a half a recipe  i ll be taking this to the next potluck or family gathering that comes up  it was so good  it came out way better than i thought it would  i was quite surprised and happy  hope you try it</th>\n",
       "      <th>this soup looks delicious  i found the recipe at www laylita com recipes  posted for zwt 2008</th>\n",
       "      <th>cooking time does not include chill time</th>\n",
       "      <th>a great combination of coconut rum  melon   banana and pineapple</th>\n",
       "    </tr>\n",
       "  </thead>\n",
       "  <tbody>\n",
       "    <tr>\n",
       "      <th>this is a nice light bread that is very tasty for sandwiches and does not require the whole wheat cycle on the abm  it is from the  canadian bread machine baking  with roxanne mcquilkin</th>\n",
       "      <td>1.000000</td>\n",
       "      <td>0.000000</td>\n",
       "      <td>0.000000</td>\n",
       "      <td>0.056012</td>\n",
       "      <td>0.0</td>\n",
       "    </tr>\n",
       "    <tr>\n",
       "      <th>i had to come up with a kid adult friendly recipe to please everybody while my step daughter was visiting  so this is what i did  we all loved this  it ended up making a lot  though  so you might want to make a half a recipe  i ll be taking this to the next potluck or family gathering that comes up  it was so good  it came out way better than i thought it would  i was quite surprised and happy  hope you try it</th>\n",
       "      <td>0.000000</td>\n",
       "      <td>1.000000</td>\n",
       "      <td>0.067811</td>\n",
       "      <td>0.000000</td>\n",
       "      <td>0.0</td>\n",
       "    </tr>\n",
       "    <tr>\n",
       "      <th>this soup looks delicious  i found the recipe at www laylita com recipes  posted for zwt 2008</th>\n",
       "      <td>0.000000</td>\n",
       "      <td>0.067811</td>\n",
       "      <td>1.000000</td>\n",
       "      <td>0.000000</td>\n",
       "      <td>0.0</td>\n",
       "    </tr>\n",
       "    <tr>\n",
       "      <th>cooking time does not include chill time</th>\n",
       "      <td>0.056012</td>\n",
       "      <td>0.000000</td>\n",
       "      <td>0.000000</td>\n",
       "      <td>1.000000</td>\n",
       "      <td>0.0</td>\n",
       "    </tr>\n",
       "    <tr>\n",
       "      <th>a great combination of coconut rum  melon   banana and pineapple</th>\n",
       "      <td>0.000000</td>\n",
       "      <td>0.000000</td>\n",
       "      <td>0.000000</td>\n",
       "      <td>0.000000</td>\n",
       "      <td>1.0</td>\n",
       "    </tr>\n",
       "  </tbody>\n",
       "</table>\n",
       "</div>"
      ],
      "text/plain": [
       "                                                    this is a nice light bread that is very tasty for sandwiches and does not require the whole wheat cycle on the abm  it is from the  canadian bread machine baking  with roxanne mcquilkin   \\\n",
       "this is a nice light bread that is very tasty f...                                           1.000000                                                                                                                                            \n",
       "i had to come up with a kid adult friendly reci...                                           0.000000                                                                                                                                            \n",
       "this soup looks delicious  i found the recipe a...                                           0.000000                                                                                                                                            \n",
       "cooking time does not include chill time                                                     0.056012                                                                                                                                            \n",
       "a great combination of coconut rum  melon   ban...                                           0.000000                                                                                                                                            \n",
       "\n",
       "                                                    i had to come up with a kid adult friendly recipe to please everybody while my step daughter was visiting  so this is what i did  we all loved this  it ended up making a lot  though  so you might want to make a half a recipe  i ll be taking this to the next potluck or family gathering that comes up  it was so good  it came out way better than i thought it would  i was quite surprised and happy  hope you try it   \\\n",
       "this is a nice light bread that is very tasty f...                                           0.000000                                                                                                                                                                                                                                                                                                                                                                                \n",
       "i had to come up with a kid adult friendly reci...                                           1.000000                                                                                                                                                                                                                                                                                                                                                                                \n",
       "this soup looks delicious  i found the recipe a...                                           0.067811                                                                                                                                                                                                                                                                                                                                                                                \n",
       "cooking time does not include chill time                                                     0.000000                                                                                                                                                                                                                                                                                                                                                                                \n",
       "a great combination of coconut rum  melon   ban...                                           0.000000                                                                                                                                                                                                                                                                                                                                                                                \n",
       "\n",
       "                                                    this soup looks delicious  i found the recipe at www laylita com recipes  posted for zwt 2008   \\\n",
       "this is a nice light bread that is very tasty f...                                           0.000000                                                \n",
       "i had to come up with a kid adult friendly reci...                                           0.067811                                                \n",
       "this soup looks delicious  i found the recipe a...                                           1.000000                                                \n",
       "cooking time does not include chill time                                                     0.000000                                                \n",
       "a great combination of coconut rum  melon   ban...                                           0.000000                                                \n",
       "\n",
       "                                                    cooking time does not include chill time   \\\n",
       "this is a nice light bread that is very tasty f...                                   0.056012   \n",
       "i had to come up with a kid adult friendly reci...                                   0.000000   \n",
       "this soup looks delicious  i found the recipe a...                                   0.000000   \n",
       "cooking time does not include chill time                                             1.000000   \n",
       "a great combination of coconut rum  melon   ban...                                   0.000000   \n",
       "\n",
       "                                                    a great combination of coconut rum  melon   banana and pineapple   \n",
       "this is a nice light bread that is very tasty f...                                                0.0                  \n",
       "i had to come up with a kid adult friendly reci...                                                0.0                  \n",
       "this soup looks delicious  i found the recipe a...                                                0.0                  \n",
       "cooking time does not include chill time                                                          0.0                  \n",
       "a great combination of coconut rum  melon   ban...                                                1.0                  "
      ]
     },
     "execution_count": 32,
     "metadata": {},
     "output_type": "execute_result"
    }
   ],
   "source": [
    "import itertools\n",
    "from scipy.spatial import distance\n",
    "\n",
    "# Инициализация переменных для хранения наибольшего коэффициента и пары текстов с наибольшим сходством\n",
    "max_pair = None\n",
    "max_result = -1\n",
    "\n",
    "# Создаем словарь для хранения коэффициентов сходства между текстами\n",
    "coeff_dict = {}\n",
    "\n",
    "# Инициализируем TfidfVectorizer для анализа слов и удаления стоп-слов на английском языке\n",
    "vectorizer3 = TfidfVectorizer(analyzer=\"word\", stop_words=\"english\")\n",
    "transform3 = vectorizer3.fit_transform(data[\"preprocessed_descriptions\"].to_list())\n",
    "\n",
    "# Создаем список, содержащий тексты и их TF-IDF матрицы\n",
    "all_data = list(zip(data[\"preprocessed_descriptions\"].to_list(), transform3.toarray()))\n",
    "\n",
    "# Проходим по всем возможным парам текстов и вычисляем коэффициент сходства\n",
    "for pair in itertools.product(all_data, repeat=2):\n",
    "    text1, matrix1 = pair[0]\n",
    "    text2, matrix2 = pair[1]\n",
    "    \n",
    "    # Вычисляем косинусное расстояние между TF-IDF векторами текстов\n",
    "    result = distance.cosine(matrix1, matrix2)\n",
    "    \n",
    "    # Вычисляем обратное косинусное расстояние для получения коэффициента сходства\n",
    "    inverse_result = 1 - result\n",
    "    \n",
    "    # Добавляем коэффициент сходства в словарь для соответствующего текста\n",
    "    if text1 not in coeff_dict:\n",
    "        coeff_dict[text1] = []\n",
    "    coeff_dict[text1].append(inverse_result)\n",
    "\n",
    "    # Обновляем наибольший коэффициент и пару текстов с наибольшим сходством\n",
    "    if inverse_result > max_result and text1 != text2:\n",
    "        max_result = inverse_result\n",
    "        max_pair = (text1, text2)\n",
    "    \n",
    "    # Выводим тексты и их коэффициенты сходства для отладки\n",
    "    print(f\"{text1}\\n{text2}\\n{inverse_result}\\n\")\n",
    "\n",
    "# Создаем DataFrame из словаря коэффициентов сходства\n",
    "df_final2 = pd.DataFrame.from_dict(coeff_dict)\n",
    "df_final2.columns = data[\"preprocessed_descriptions\"].to_list()\n",
    "df_final2.index = data[\"preprocessed_descriptions\"].to_list()\n",
    "df_final2\n"
   ]
  },
  {
   "cell_type": "markdown",
   "metadata": {},
   "source": [
    "3.3 Какие рецепты являются наиболее похожими? Прокомментируйте результат (словами)."
   ]
  },
  {
   "cell_type": "code",
   "execution_count": 33,
   "metadata": {},
   "outputs": [
    {
     "name": "stdout",
     "output_type": "stream",
     "text": [
      "Из датасета выше больше всего совпадений в предложениях:\n",
      "\n",
      "i had to come up with a kid adult friendly recipe to please everybody while my step daughter was visiting  so this is what i did  we all loved this  it ended up making a lot  though  so you might want to make a half a recipe  i ll be taking this to the next potluck or family gathering that comes up  it was so good  it came out way better than i thought it would  i was quite surprised and happy  hope you try it \n",
      "\n",
      "this soup looks delicious  i found the recipe at www laylita com recipes  posted for zwt 2008 \n",
      "\n",
      "0.06781105003700483\n"
     ]
    }
   ],
   "source": [
    "# Вывод информации о наибольшем количестве совпадений в предложениях из датасета\n",
    "\n",
    "# Выводим текст с наибольшим количеством совпадений в предложениях\n",
    "print(f\"Из датасета выше больше всего совпадений в предложениях:\\n\\n{max_pair[0]}\\n\\n{max_pair[1]}\\n\\n{max_result}\")\n"
   ]
  }
 ],
 "metadata": {
  "kernelspec": {
   "display_name": "Python 3 (ipykernel)",
   "language": "python",
   "name": "python3"
  },
  "language_info": {
   "codemirror_mode": {
    "name": "ipython",
    "version": 3
   },
   "file_extension": ".py",
   "mimetype": "text/x-python",
   "name": "python",
   "nbconvert_exporter": "python",
   "pygments_lexer": "ipython3",
   "version": "3.11.5"
  }
 },
 "nbformat": 4,
 "nbformat_minor": 4
}
