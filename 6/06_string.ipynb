{
 "cells": [
  {
   "cell_type": "markdown",
   "metadata": {},
   "source": [
    "# Работа со строковыми значениями"
   ]
  },
  {
   "cell_type": "markdown",
   "metadata": {},
   "source": [
    "__Автор задач: Блохин Н.В. (NVBlokhin@fa.ru)__\n",
    "\n",
    "Материалы:\n",
    "* Макрушин С.В. Лекция \"Работа со строковыми значениям\"\n",
    "* https://pyformat.info/\n",
    "* https://docs.python.org/3/library/re.html\n",
    "    * https://docs.python.org/3/library/re.html#flags\n",
    "    * https://docs.python.org/3/library/re.html#functions\n",
    "* https://pythonru.com/primery/primery-primeneniya-regulyarnyh-vyrazheniy-v-python\n",
    "* https://kanoki.org/2019/11/12/how-to-use-regex-in-pandas/\n",
    "* https://realpython.com/nltk-nlp-python/"
   ]
  },
  {
   "cell_type": "code",
   "execution_count": 23,
   "metadata": {},
   "outputs": [
    {
     "name": "stderr",
     "output_type": "stream",
     "text": [
      "[nltk_data] Downloading package punkt to\n",
      "[nltk_data]     C:\\Users\\222690\\AppData\\Roaming\\nltk_data...\n",
      "[nltk_data]   Package punkt is already up-to-date!\n",
      "[nltk_data] Downloading package averaged_perceptron_tagger to\n",
      "[nltk_data]     C:\\Users\\222690\\AppData\\Roaming\\nltk_data...\n",
      "[nltk_data]   Unzipping taggers\\averaged_perceptron_tagger.zip.\n"
     ]
    },
    {
     "data": {
      "text/plain": [
       "True"
      ]
     },
     "execution_count": 23,
     "metadata": {},
     "output_type": "execute_result"
    }
   ],
   "source": [
    "from bs4 import BeautifulSoup\n",
    "import pandas as pd\n",
    "import re\n",
    "import numpy as np\n",
    "import nltk\n",
    "\n",
    "# Загрузка необходимых ресурсов для библиотеки NLTK\n",
    "nltk.download('punkt')\n",
    "nltk.download('averaged_perceptron_tagger')"
   ]
  },
  {
   "cell_type": "markdown",
   "metadata": {},
   "source": [
    "## Задачи для совместного разбора"
   ]
  },
  {
   "cell_type": "markdown",
   "metadata": {},
   "source": [
    "1. Вывести на экран данные из словаря `obj` построчно в виде `k = v`, задав формат таким образом, чтобы знак равенства оказался на одной и той же позиции во всех строках. Строковые литералы обернуть в кавычки."
   ]
  },
  {
   "cell_type": "code",
   "execution_count": 3,
   "metadata": {},
   "outputs": [
    {
     "name": "stdout",
     "output_type": "stream",
     "text": [
      "'home_page'='https://github.com/pypa/sampleproject'\n",
      "'keywords' ='sample setuptools development'\n",
      "'license'  ='MIT'\n"
     ]
    }
   ],
   "source": [
    "# Задаем словарь с данными\n",
    "obj = {\n",
    "    \"home_page\": \"https://github.com/pypa/sampleproject\",\n",
    "    \"keywords\": \"sample setuptools development\",\n",
    "    \"license\": \"MIT\",\n",
    "}\n",
    "\n",
    "# Находим максимальную длину ключа в словаре и добавляем 2 для отступа\n",
    "max_key = max(map(lambda x: len(x), obj.keys())) + 2\n",
    "\n",
    "# Проходим по элементам словаря и выводим каждый ключ и значение\n",
    "for k, v in obj.items():\n",
    "    # Используем f-строку для форматированного вывода\n",
    "    # repr(k):{max_key} задает выравнивание ключа по максимальной длине ключа\n",
    "    # repr(v):> задает выравнивание значения вправо\n",
    "    print(f'{repr(k):{max_key}}={repr(v):>}')\n"
   ]
  },
  {
   "cell_type": "markdown",
   "metadata": {},
   "source": [
    "2. Написать регулярное выражение,которое позволит найти номера групп студентов."
   ]
  },
  {
   "cell_type": "code",
   "execution_count": 1,
   "metadata": {},
   "outputs": [
    {
     "name": "stdout",
     "output_type": "stream",
     "text": [
      "['19-1']\n",
      "['20-4']\n",
      "['20-3']\n"
     ]
    }
   ],
   "source": [
    "import pandas as pd\n",
    "import re\n",
    "\n",
    "# Создаем Series с данными\n",
    "obj = pd.Series([\"Евгения гр.ПМ19-1\", \"Илья пм 20-4\", \"Анна 20-3\"])\n",
    "\n",
    "# Задаем шаблон регулярного выражения для поиска\n",
    "pattern = r\"(\\d{2}-[0-9])\"\n",
    "\n",
    "# Проходим по каждому элементу Series и находим совпадения по шаблону\n",
    "for i in obj:\n",
    "    print(re.findall(pattern, i))\n"
   ]
  },
  {
   "cell_type": "markdown",
   "metadata": {},
   "source": [
    "3. Разбейте текст формулировки задачи 2 на слова."
   ]
  },
  {
   "cell_type": "code",
   "execution_count": 4,
   "metadata": {},
   "outputs": [
    {
     "name": "stdout",
     "output_type": "stream",
     "text": [
      "Написать\n",
      "регулярное\n",
      "выражение\n",
      "которое\n",
      "позволит\n",
      "найти\n",
      "номера\n",
      "групп\n",
      "студентов\n"
     ]
    }
   ],
   "source": [
    "import re\n",
    "\n",
    "# Исходная строка\n",
    "source_string = \"Написать регулярное выражение,которое позволит найти номера групп студентов.\"\n",
    "\n",
    "# Используем регулярное выражение для поиска слов\n",
    "for w in re.findall(\"\\w+\", source_string):\n",
    "    print(w)\n"
   ]
  },
  {
   "cell_type": "markdown",
   "metadata": {},
   "source": [
    "## Лабораторная работа 6"
   ]
  },
  {
   "cell_type": "markdown",
   "metadata": {},
   "source": [
    "### Форматирование строк"
   ]
  },
  {
   "cell_type": "markdown",
   "metadata": {},
   "source": [
    "1\\. Загрузите данные из файла `recipes_sample.csv` (__ЛР2__) в виде `pd.DataFrame` `recipes` При помощи форматирования строк выведите информацию об id рецепта и времени выполнения 5 случайных рецептов в виде таблицы следующего вида:\n",
    "\n",
    "    \n",
    "    |      id      |  minutes  |\n",
    "    |--------------------------|\n",
    "    |    61178     |    65     |\n",
    "    |    202352    |    80     |\n",
    "    |    364322    |    150    |\n",
    "    |    26177     |    20     |\n",
    "    |    224785    |    35     |\n",
    "    \n",
    "Обратите внимание, что ширина столбцов заранее неизвестна и должна рассчитываться динамически, в зависимости от тех данных, которые были выбраны. "
   ]
  },
  {
   "cell_type": "code",
   "execution_count": 2,
   "metadata": {},
   "outputs": [
    {
     "name": "stdout",
     "output_type": "stream",
     "text": [
      "|      id      |  minutes  |\n",
      "|--------------------------|\n",
      "|    325714    |   1500    |\n",
      "|    85275     |    40     |\n",
      "|    13459     |    75     |\n",
      "|    495990    |    10     |\n",
      "|    229364    |    745    |\n"
     ]
    }
   ],
   "source": [
    "import pandas as pd\n",
    "\n",
    "# Читаем данные из CSV файла\n",
    "df = pd.read_csv(\"./data/recipes_sample.csv\")\n",
    "\n",
    "# Выбираем случайные 5 значений из DataFrame\n",
    "five_values = df.sample(n=5)[['id', 'minutes']]\n",
    "\n",
    "# Сбрасываем индекс, чтобы начать с 0\n",
    "five_values.reset_index(inplace=True)\n",
    "\n",
    "# Вычисляем максимальную длину для выравнивания\n",
    "max_id = len(str(max(df['id']))) + 8\n",
    "max_min = max(len(str(max(df['minutes']))), len('minutes')) + 4\n",
    "\n",
    "# Выводим заголовок таблицы\n",
    "print(f\"|{'id':^{max_id}}|{'minutes':^{max_min}}|\")\n",
    "print('|' + '-' * (max_id + max_min + 1) + '|')\n",
    "\n",
    "# Выводим данные\n",
    "for i in range(5):\n",
    "    print(f'|{five_values[\"id\"][i]:^{max_id}}|{five_values[\"minutes\"][i]:^{max_min}}|')\n"
   ]
  },
  {
   "cell_type": "markdown",
   "metadata": {},
   "source": [
    "2\\. Напишите функцию `show_info`, которая по данным о рецепте создает строку (в смысле объекта python) с описанием следующего вида:\n",
    "\n",
    "```\n",
    "\"Название Из Нескольких Слов\"\n",
    "\n",
    "1. Шаг 1\n",
    "2. Шаг 2\n",
    "----------\n",
    "Автор: contributor_id\n",
    "Среднее время приготовления: minutes минут\n",
    "```\n",
    "\n",
    "    \n",
    "Данные для создания строки получите из файлов `recipes_sample.csv` (__ЛР2__) и `steps_sample.xml` (__ЛР3__). \n",
    "Вызовите данную функцию для рецепта с id `170895` и выведите (через `print`) полученную строку на экран."
   ]
  },
  {
   "cell_type": "code",
   "execution_count": 3,
   "metadata": {},
   "outputs": [
    {
     "name": "stdout",
     "output_type": "stream",
     "text": [
      "                                       name     id  minutes  contributor_id  \\\n",
      "0     george s at the cove  black bean soup  44123       90           35193   \n",
      "1        healthy for them  yogurt popsicles  67664       10           91970   \n",
      "2              i can t believe it s spinach  38798       30            1533   \n",
      "3                      italian  gut busters  35173       45           22724   \n",
      "4  love is in the air  beef fondue   sauces  84797       25            4470   \n",
      "\n",
      "    submitted  n_steps                                        description  \\\n",
      "0  2002-10-25      NaN  an original recipe created by chef scott meska...   \n",
      "1  2003-07-26      NaN  my children and their friends ask for my homem...   \n",
      "2  2002-08-29      NaN            these were so go, it surprised even me.   \n",
      "3  2002-07-27      NaN  my sister-in-law made these for us at a family...   \n",
      "4  2004-02-23      4.0  i think a fondue is a very romantic casual din...   \n",
      "\n",
      "   n_ingredients  \n",
      "0           18.0  \n",
      "1            NaN  \n",
      "2            8.0  \n",
      "3            NaN  \n",
      "4            NaN  \n",
      "------------------------------------------------------------------------------------------------------------------------------------------------------\n",
      "                                         name      id  minutes  \\\n",
      "15754  leeks and parsnips  sauteed or creamed  170895       27   \n",
      "\n",
      "       contributor_id   submitted  n_steps  \\\n",
      "15754            8377  2006-05-31     21.0   \n",
      "\n",
      "                                             description  n_ingredients  \n",
      "15754  this is good sauteed only or creamed. very eas...            9.0  \n",
      "\"Leeks And Parsnips  Sauteed Or Creamed\"\n",
      "\n",
      "1. Clean the leeks and discard the dark green portions\n",
      "2. Cut the leeks lengthwise then into one-inch pieces\n",
      "3. Melt the butter in a medium skillet , med\n",
      "4. Heat\n",
      "5. Add the garlic and fry 'til fragrant\n",
      "6. Add leeks and fry until the leeks are tender , about 6-minutes\n",
      "7. Meanwhile , peel and chunk the parsnips into one-inch pieces\n",
      "8. Place in a steaming basket and steam 'til they are as tender as you prefer\n",
      "9. I like them fork-tender\n",
      "10. Drain parsnips and add to the skillet with the leeks\n",
      "11. Add salt and pepper\n",
      "12. Gently sautee together for 5-minutes\n",
      "13. At this point you can serve it , or continue on and cream it:\n",
      "14. In a jar with a screw top , add the half-n-half and arrowroot\n",
      "15. Shake 'til blended\n",
      "16. Turn heat to low under the leeks and parsnips\n",
      "17. Pour in the arrowroot mixture , stirring gently as you pour\n",
      "18. If too thick , gradually add the water\n",
      "19. Let simmer for a couple of minutes\n",
      "20. Taste to adjust seasoning , probably an additional 1 / 2 teaspoon salt\n",
      "21. Serve warm\n",
      "----------\n",
      "Автор: 8377\n",
      "Среднее время приготовления: 27 минут\n",
      "\n"
     ]
    }
   ],
   "source": [
    "import pandas as pd\n",
    "from bs4 import BeautifulSoup\n",
    "\n",
    "# Читаем XML файл с помощью BeautifulSoup\n",
    "with open('./data/steps_sample.xml', 'r') as file:\n",
    "    recipes = BeautifulSoup(file.read(), 'xml')\n",
    "\n",
    "# Находим текст шагов рецепта по id\n",
    "recipe_text = recipes.find('id', string='170895').next_sibling.next_sibling.text.strip().split('\\n')\n",
    "\n",
    "# Читаем CSV файл с данными о рецептах\n",
    "r_pd = pd.read_csv('./data/recipes_sample.csv')\n",
    "\n",
    "# Выводим первые строки DataFrame\n",
    "print(r_pd.head())\n",
    "\n",
    "# Ищем данные по рецепту с id 170895\n",
    "looked_data = r_pd[r_pd['id'] == 170895]\n",
    "\n",
    "# Выводим разделительную линию\n",
    "print('-'*150)\n",
    "\n",
    "# Выводим первые строки найденных данных\n",
    "print(looked_data.head())\n",
    "\n",
    "# Получаем имя рецепта, время приготовления и id автора\n",
    "name_recipe, minutes, author_id = looked_data['name'].values[0], looked_data['minutes'].values[0], looked_data['contributor_id'].values[0]\n",
    "\n",
    "# Определяем функцию для вывода информации о рецепте\n",
    "def show_info(name: str, \n",
    "              steps: list[str], \n",
    "              minutes: int, \n",
    "              author_id: int) -> str:\n",
    "    res_str = f'\"{name.title()}\"\\n\\n'\n",
    "    res_str += \"\\n\".join([f\"{i+1}. {v.capitalize()}\" for i, v in enumerate(steps)])\n",
    "    res_str += \"\\n\" + \"-\" * 10 + \"\\n\"\n",
    "    res_str += f\"Автор: {author_id}\\n\"\n",
    "    res_str += f\"Среднее время приготовления: {minutes} минут\\n\"\n",
    "    return res_str\n",
    "\n",
    "# Выводим информацию о рецепте с использованием функции\n",
    "print(show_info(name_recipe, recipe_text, minutes, author_id))\n"
   ]
  },
  {
   "cell_type": "markdown",
   "metadata": {},
   "source": [
    "## Работа с регулярными выражениями"
   ]
  },
  {
   "cell_type": "markdown",
   "metadata": {},
   "source": [
    "3\\. Напишите регулярное выражение, которое ищет следующий паттерн в строке: число (1 цифра или более), затем пробел, затем слова: hour или hours или minute или minutes. Произведите поиск по данному регулярному выражению в каждом шаге рецепта с id 25082. Выведите на экран все непустые результаты, найденные по данному шаблону."
   ]
  },
  {
   "cell_type": "code",
   "execution_count": 7,
   "metadata": {},
   "outputs": [
    {
     "name": "stdout",
     "output_type": "stream",
     "text": [
      "20 minutes\n",
      "10 minutes\n",
      "2 hours\n",
      "10 minutes\n",
      "20 minutes\n",
      "30 minutes\n"
     ]
    }
   ],
   "source": [
    "import re\n",
    "from bs4 import BeautifulSoup\n",
    "\n",
    "# Определяем шаблон регулярного выражения\n",
    "pattern = r\"(\\d+\\s(hour[s]*|minute[s]*))\"\n",
    "\n",
    "# Читаем XML файл с помощью BeautifulSoup\n",
    "with open('./data/steps_sample.xml', 'r') as file:\n",
    "    recipes = BeautifulSoup(file.read(), 'xml')\n",
    "\n",
    "# Находим текст шагов рецепта по id\n",
    "data_recipes = recipes.find('id', string='25082').next_sibling.next_sibling.text.strip().split('\\n')\n",
    "\n",
    "# Находим совпадения по шаблону в тексте рецепта\n",
    "res = re.findall(pattern, '\\n'.join(data_recipes))\n",
    "\n",
    "# Выводим найденные совпадения\n",
    "for s in res:\n",
    "    print(s[0])\n"
   ]
  },
  {
   "cell_type": "markdown",
   "metadata": {},
   "source": [
    "4\\. Напишите регулярное выражение, которое ищет шаблон вида \"this..., but\" _в начале строки_ . Между словом \"this\" и частью \", but\" может находиться произвольное число букв, цифр, знаков подчеркивания и пробелов. Никаких других символов вместо многоточия быть не может. Пробел между запятой и словом \"but\" может присутствовать или отсутствовать.\n",
    "\n",
    "Используя строковые методы `pd.Series`, выясните, для каких рецептов данный шаблон содержится в тексте описания. Выведите на экран количество таких рецептов и 3 примера подходящих описаний (текст описания должен быть виден на экране полностью)."
   ]
  },
  {
   "cell_type": "code",
   "execution_count": 8,
   "metadata": {},
   "outputs": [
    {
     "name": "stdout",
     "output_type": "stream",
     "text": [
      "Кол-во рецептов: 865\n"
     ]
    },
    {
     "data": {
      "text/plain": [
       "76    this is a great meal eaten the same day ,but e...\n",
       "87    this is it. the real deal. very time consuming...\n",
       "92    this is fantastic served with grilled seafood ...\n",
       "Name: description, dtype: object"
      ]
     },
     "execution_count": 8,
     "metadata": {},
     "output_type": "execute_result"
    }
   ],
   "source": [
    "import pandas as pd\n",
    "\n",
    "# Задаем шаблон регулярного выражения\n",
    "pattern = r'^this.*,[\\s]?but'\n",
    "\n",
    "# Создаем Series с описаниями рецептов из DataFrame\n",
    "descriptions = pd.Series(df['description']).dropna()\n",
    "\n",
    "# Применяем шаблон к Series, чтобы найти совпадения\n",
    "descriptions_pattern = descriptions.str.match(pattern)\n",
    "\n",
    "# Выводим количество рецептов, соответствующих шаблону\n",
    "print(f\"Кол-во рецептов: {descriptions_pattern.sum()}\")\n",
    "\n",
    "# Выводим первые три рецепта, соответствующих шаблону\n",
    "print(descriptions[descriptions_pattern][:3])\n"
   ]
  },
  {
   "cell_type": "markdown",
   "metadata": {},
   "source": [
    "5\\. В текстах шагов рецептов обыкновенные дроби имеют вид \"a / b\". Используя регулярные выражения, уберите в тексте шагов рецепта с id 72367 пробелы до и после символа дроби. Выведите на экран шаги этого рецепта после их изменения."
   ]
  },
  {
   "cell_type": "code",
   "execution_count": 11,
   "metadata": {},
   "outputs": [
    {
     "name": "stdout",
     "output_type": "stream",
     "text": [
      "mix butter , flour , 1/3 c\n",
      "sugar and 1-1/4 t\n",
      "vanilla\n",
      "press into greased 9\" springform pan\n",
      "mix cream cheese , 1/4 c\n",
      "sugar , eggs and 1/2 t\n",
      "vanilla beating until fluffy\n",
      "pour over dough\n",
      "combine apples , 1/3 c\n",
      "sugar and cinnamon\n",
      "arrange on top of cream cheese mixture and sprinkle with almonds\n",
      "bake at 350 for 45-55 minutes , or until tester comes out clean\n"
     ]
    }
   ],
   "source": [
    "from bs4 import BeautifulSoup\n",
    "import re\n",
    "\n",
    "# Читаем XML файл с помощью BeautifulSoup\n",
    "with open('./data/steps_sample.xml', 'r') as file:\n",
    "    recipes = BeautifulSoup(file.read(), 'xml')\n",
    "\n",
    "# Находим текст шагов рецепта по id\n",
    "data_recipes = recipes.find('id', string='72367').next_sibling.next_sibling.text.strip()\n",
    "\n",
    "# Заменяем \" / \" на \"/\"\n",
    "print(re.sub(r' / ', '/', data_recipes))\n"
   ]
  },
  {
   "cell_type": "markdown",
   "metadata": {},
   "source": [
    "### Сегментация текста"
   ]
  },
  {
   "cell_type": "markdown",
   "metadata": {},
   "source": [
    "6\\. Разбейте тексты шагов рецептов на слова при помощи пакета `nltk`. Посчитайте и выведите на экран кол-во уникальных слов среди всех рецептов. Словом называется любая последовательность алфавитных символов (для проверки можно воспользоваться `str.isalpha`). При подсчете количества уникальных слов не учитывайте регистр."
   ]
  },
  {
   "cell_type": "code",
   "execution_count": 16,
   "metadata": {},
   "outputs": [
    {
     "data": {
      "text/plain": [
       "19604"
      ]
     },
     "execution_count": 16,
     "metadata": {},
     "output_type": "execute_result"
    }
   ],
   "source": [
    "from bs4 import BeautifulSoup\n",
    "import nltk\n",
    "\n",
    "# Читаем XML файл с помощью BeautifulSoup\n",
    "with open('./data/steps_sample.xml', 'r') as file:\n",
    "    recipes = BeautifulSoup(file.read(), 'xml')\n",
    "\n",
    "# Создаем множество для уникальных слов\n",
    "unique_words = set()\n",
    "\n",
    "# Проходим по всем элементам 'recipe' и добавляем слова из 'steps' в множество\n",
    "for word in recipes.find_all('recipe'):\n",
    "    unique_words.update(nltk.word_tokenize(word.steps.text.strip()))\n",
    "\n",
    "# Выводим количество уникальных слов\n",
    "print(len(unique_words))\n"
   ]
  },
  {
   "cell_type": "markdown",
   "metadata": {},
   "source": [
    "7\\. Разбейте описания рецептов из `recipes` на предложения при помощи пакета `nltk`. Найдите 5 самых длинных описаний (по количеству _предложений_) рецептов в датасете и выведите строки фрейма, соответствующие этим рецептами, в порядке убывания длины."
   ]
  },
  {
   "cell_type": "code",
   "execution_count": 28,
   "metadata": {},
   "outputs": [
    {
     "data": {
      "text/html": [
       "<div>\n",
       "<style scoped>\n",
       "    .dataframe tbody tr th:only-of-type {\n",
       "        vertical-align: middle;\n",
       "    }\n",
       "\n",
       "    .dataframe tbody tr th {\n",
       "        vertical-align: top;\n",
       "    }\n",
       "\n",
       "    .dataframe thead th {\n",
       "        text-align: right;\n",
       "    }\n",
       "</style>\n",
       "<table border=\"1\" class=\"dataframe\">\n",
       "  <thead>\n",
       "    <tr style=\"text-align: right;\">\n",
       "      <th></th>\n",
       "      <th>name</th>\n",
       "      <th>id</th>\n",
       "      <th>minutes</th>\n",
       "      <th>contributor_id</th>\n",
       "      <th>submitted</th>\n",
       "      <th>n_steps</th>\n",
       "      <th>description</th>\n",
       "      <th>n_ingredients</th>\n",
       "    </tr>\n",
       "  </thead>\n",
       "  <tbody>\n",
       "    <tr>\n",
       "      <th>18408</th>\n",
       "      <td>my favorite buttercream icing for decorating</td>\n",
       "      <td>334113</td>\n",
       "      <td>30</td>\n",
       "      <td>681465</td>\n",
       "      <td>2008-10-30</td>\n",
       "      <td>12.0</td>\n",
       "      <td>this wonderful icing is used for icing cakes a...</td>\n",
       "      <td>NaN</td>\n",
       "    </tr>\n",
       "    <tr>\n",
       "      <th>481</th>\n",
       "      <td>alligator claws  avocado fritters  with chipot...</td>\n",
       "      <td>287008</td>\n",
       "      <td>45</td>\n",
       "      <td>765354</td>\n",
       "      <td>2008-02-19</td>\n",
       "      <td>NaN</td>\n",
       "      <td>a translucent golden-brown crust allows the gr...</td>\n",
       "      <td>9.0</td>\n",
       "    </tr>\n",
       "    <tr>\n",
       "      <th>22566</th>\n",
       "      <td>rich barley mushroom soup</td>\n",
       "      <td>328708</td>\n",
       "      <td>60</td>\n",
       "      <td>221776</td>\n",
       "      <td>2008-10-03</td>\n",
       "      <td>NaN</td>\n",
       "      <td>this is one of the best soups i've ever made a...</td>\n",
       "      <td>10.0</td>\n",
       "    </tr>\n",
       "    <tr>\n",
       "      <th>6779</th>\n",
       "      <td>chocolate tea</td>\n",
       "      <td>205348</td>\n",
       "      <td>6</td>\n",
       "      <td>428824</td>\n",
       "      <td>2007-01-14</td>\n",
       "      <td>NaN</td>\n",
       "      <td>i wrote this because there are an astounding l...</td>\n",
       "      <td>NaN</td>\n",
       "    </tr>\n",
       "    <tr>\n",
       "      <th>16296</th>\n",
       "      <td>little bunny foo foo cake  carrot cake  with c...</td>\n",
       "      <td>316000</td>\n",
       "      <td>68</td>\n",
       "      <td>689540</td>\n",
       "      <td>2008-07-27</td>\n",
       "      <td>14.0</td>\n",
       "      <td>the first time i made this cake i grated a mil...</td>\n",
       "      <td>NaN</td>\n",
       "    </tr>\n",
       "  </tbody>\n",
       "</table>\n",
       "</div>"
      ],
      "text/plain": [
       "                                                    name      id  minutes  \\\n",
       "18408       my favorite buttercream icing for decorating  334113       30   \n",
       "481    alligator claws  avocado fritters  with chipot...  287008       45   \n",
       "22566                          rich barley mushroom soup  328708       60   \n",
       "6779                                       chocolate tea  205348        6   \n",
       "16296  little bunny foo foo cake  carrot cake  with c...  316000       68   \n",
       "\n",
       "       contributor_id   submitted  n_steps  \\\n",
       "18408          681465  2008-10-30     12.0   \n",
       "481            765354  2008-02-19      NaN   \n",
       "22566          221776  2008-10-03      NaN   \n",
       "6779           428824  2007-01-14      NaN   \n",
       "16296          689540  2008-07-27     14.0   \n",
       "\n",
       "                                             description  n_ingredients  \n",
       "18408  this wonderful icing is used for icing cakes a...            NaN  \n",
       "481    a translucent golden-brown crust allows the gr...            9.0  \n",
       "22566  this is one of the best soups i've ever made a...           10.0  \n",
       "6779   i wrote this because there are an astounding l...            NaN  \n",
       "16296  the first time i made this cake i grated a mil...            NaN  "
      ]
     },
     "execution_count": 28,
     "metadata": {},
     "output_type": "execute_result"
    }
   ],
   "source": [
    "import pandas as pd\n",
    "import nltk\n",
    "\n",
    "# Чтение данных из CSV файла\n",
    "df = pd.read_csv(\"./data/recipes_sample.csv\")\n",
    "\n",
    "# Удаление строк с отсутствующими описаниями\n",
    "df['description'] = df['description'].dropna()\n",
    "\n",
    "# Разделение описаний на предложения\n",
    "descriptions = df[\"description\"].apply(nltk.sent_tokenize)\n",
    "\n",
    "# Преобразование в словарь для хранения предложений по индексу\n",
    "data = descriptions.to_dict()\n",
    "\n",
    "# Сортировка индексов по количеству предложений (по убыванию) и выборка первых 5\n",
    "top_indices = sorted(data, key=lambda x: len(data[x]), reverse=True)[:5]\n",
    "\n",
    "# Вывод данных по выбранным индексам\n",
    "print(df.iloc[top_indices])\n"
   ]
  },
  {
   "cell_type": "markdown",
   "metadata": {},
   "source": [
    "8\\. Напишите функцию, которая для заданного предложения выводит информацию о частях речи слов, входящих в предложение, в следующем виде:\n",
    "```\n",
    "PRP   VBD   DT      NNS     CC   VBD      NNS        RB   \n",
    " I  omitted the raspberries and added strawberries instead\n",
    "``` \n",
    "Для определения части речи слова можно воспользоваться `nltk.pos_tag`.\n",
    "\n",
    "Проверьте работоспособность функции на названии рецепта с id 241106.\n",
    "\n",
    "Обратите внимание, что часть речи должна находиться ровно посередине над соотвествующим словом, а между самими словами должен быть ровно один пробел.\n"
   ]
  },
  {
   "cell_type": "code",
   "execution_count": 24,
   "metadata": {},
   "outputs": [
    {
     "name": "stdout",
     "output_type": "stream",
     "text": [
      "   JJ      NNS   IN     NNS     VBP   JJ    CC   JJ    NNS  \n",
      "eggplant steaks with chickpeas feta cheese and black olives \n"
     ]
    }
   ],
   "source": [
    "import nltk\n",
    "import pandas as pd\n",
    "\n",
    "# Чтение данных из CSV файла\n",
    "df = pd.read_csv(\"./data/recipes_sample.csv\")\n",
    "\n",
    "# Определяем id рецепта для анализа\n",
    "recipe_id = 241106\n",
    "\n",
    "# Получаем имя рецепта по его id\n",
    "recipe_name = df[df['id'] == recipe_id].name.values[0]\n",
    "\n",
    "# Выполняем частеречную разметку имени рецепта\n",
    "pos_tag_values = nltk.pos_tag(nltk.word_tokenize(recipe_name))\n",
    "\n",
    "# Форматируем результаты для вывода\n",
    "formatted_values = [(value[-1], value[-2], max(len(value[0]), len(value[1]))) for value in pos_tag_values]\n",
    "\n",
    "# Выводим результаты\n",
    "print(''.join([f\"{ind[0]:^{ind[2] + 1}}\" for ind in formatted_values]),\n",
    "      ''.join([f\"{ind[1]:^{ind[2] + 1}}\" for ind in formatted_values]), \n",
    "      sep='\\n')\n"
   ]
  }
 ],
 "metadata": {
  "kernelspec": {
   "display_name": "Python 3 (ipykernel)",
   "language": "python",
   "name": "python3"
  },
  "language_info": {
   "codemirror_mode": {
    "name": "ipython",
    "version": 3
   },
   "file_extension": ".py",
   "mimetype": "text/x-python",
   "name": "python",
   "nbconvert_exporter": "python",
   "pygments_lexer": "ipython3",
   "version": "3.11.5"
  }
 },
 "nbformat": 4,
 "nbformat_minor": 4
}
